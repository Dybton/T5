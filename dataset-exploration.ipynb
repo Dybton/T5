{
 "cells": [
  {
   "cell_type": "code",
   "execution_count": 28,
   "metadata": {},
   "outputs": [],
   "source": [
    "import pandas as pd\n",
    "import matplotlib.pyplot as plt"
   ]
  },
  {
   "cell_type": "code",
   "execution_count": 29,
   "metadata": {},
   "outputs": [],
   "source": [
    "#Create a dataframe with dev.json\n",
    "dev = pd.read_json('SPEGQL-dataset/dataset/dev.json')"
   ]
  },
  {
   "cell_type": "code",
   "execution_count": 30,
   "metadata": {},
   "outputs": [
    {
     "data": {
      "text/html": [
       "<div>\n",
       "<style scoped>\n",
       "    .dataframe tbody tr th:only-of-type {\n",
       "        vertical-align: middle;\n",
       "    }\n",
       "\n",
       "    .dataframe tbody tr th {\n",
       "        vertical-align: top;\n",
       "    }\n",
       "\n",
       "    .dataframe thead th {\n",
       "        text-align: right;\n",
       "    }\n",
       "</style>\n",
       "<table border=\"1\" class=\"dataframe\">\n",
       "  <thead>\n",
       "    <tr style=\"text-align: right;\">\n",
       "      <th></th>\n",
       "      <th>query</th>\n",
       "      <th>schemaId</th>\n",
       "      <th>question</th>\n",
       "    </tr>\n",
       "  </thead>\n",
       "  <tbody>\n",
       "    <tr>\n",
       "      <th>0</th>\n",
       "      <td>query { ship_aggregate ( where : { disposition...</td>\n",
       "      <td>battle_death</td>\n",
       "      <td>How many ships ended up being 'Captured'?</td>\n",
       "    </tr>\n",
       "    <tr>\n",
       "      <th>1</th>\n",
       "      <td>query { ship ( order_by : { name : desc } ) { ...</td>\n",
       "      <td>battle_death</td>\n",
       "      <td>List the name and tonnage ordered by in descen...</td>\n",
       "    </tr>\n",
       "    <tr>\n",
       "      <th>2</th>\n",
       "      <td>query { battle { name date } }</td>\n",
       "      <td>battle_death</td>\n",
       "      <td>List the name, date and result of each battle.</td>\n",
       "    </tr>\n",
       "    <tr>\n",
       "      <th>3</th>\n",
       "      <td>query { death_aggregate { aggregate { max { ki...</td>\n",
       "      <td>battle_death</td>\n",
       "      <td>What is maximum and minimum death toll caused ...</td>\n",
       "    </tr>\n",
       "    <tr>\n",
       "      <th>4</th>\n",
       "      <td>query { death_aggregate { aggregate { avg { in...</td>\n",
       "      <td>battle_death</td>\n",
       "      <td>What is the average number of injuries caused ...</td>\n",
       "    </tr>\n",
       "  </tbody>\n",
       "</table>\n",
       "</div>"
      ],
      "text/plain": [
       "                                               query      schemaId  \\\n",
       "0  query { ship_aggregate ( where : { disposition...  battle_death   \n",
       "1  query { ship ( order_by : { name : desc } ) { ...  battle_death   \n",
       "2                     query { battle { name date } }  battle_death   \n",
       "3  query { death_aggregate { aggregate { max { ki...  battle_death   \n",
       "4  query { death_aggregate { aggregate { avg { in...  battle_death   \n",
       "\n",
       "                                            question  \n",
       "0          How many ships ended up being 'Captured'?  \n",
       "1  List the name and tonnage ordered by in descen...  \n",
       "2     List the name, date and result of each battle.  \n",
       "3  What is maximum and minimum death toll caused ...  \n",
       "4  What is the average number of injuries caused ...  "
      ]
     },
     "execution_count": 30,
     "metadata": {},
     "output_type": "execute_result"
    }
   ],
   "source": [
    "# Show me the first 5 rows\n",
    "dev.head()"
   ]
  },
  {
   "cell_type": "code",
   "execution_count": 31,
   "metadata": {},
   "outputs": [
    {
     "data": {
      "text/plain": [
       "query       0\n",
       "schemaId    0\n",
       "question    0\n",
       "dtype: int64"
      ]
     },
     "execution_count": 31,
     "metadata": {},
     "output_type": "execute_result"
    }
   ],
   "source": [
    "# Do we have any missing values - no\n",
    "dev.isnull().sum()\n"
   ]
  },
  {
   "cell_type": "code",
   "execution_count": 32,
   "metadata": {},
   "outputs": [
    {
     "data": {
      "text/plain": [
       "str"
      ]
     },
     "execution_count": 32,
     "metadata": {},
     "output_type": "execute_result"
    }
   ],
   "source": [
    "type(dev.iloc[0,2])"
   ]
  },
  {
   "cell_type": "code",
   "execution_count": 33,
   "metadata": {},
   "outputs": [
    {
     "name": "stdout",
     "output_type": "stream",
     "text": [
      "Average length of questions:  63.238267148014444\n",
      "Minimum question length:  18\n",
      "Maximum question length:  137\n",
      "Median question length:  61.0\n"
     ]
    },
    {
     "data": {
      "image/png": "[encoded data removed]",
      "text/plain": [
       "<Figure size 432x288 with 1 Axes>"
      ]
     },
     "metadata": {
      "needs_background": "light"
     },
     "output_type": "display_data"
    },
    {
     "name": "stdout",
     "output_type": "stream",
     "text": [
      "Short        140\n",
      "Long         140\n",
      "Medium       138\n",
      "Very Long    135\n",
      "Name: question_length_bucket, dtype: int64\n",
      "Quartiles of question length:\n",
      " 0.00     18.0\n",
      "0.25     47.0\n",
      "0.50     61.0\n",
      "0.75     77.0\n",
      "1.00    137.0\n",
      "Name: question, dtype: float64\n",
      "\n",
      "Count of questions in each bucket:\n",
      " Short        140\n",
      "Long         140\n",
      "Medium       138\n",
      "Very Long    135\n",
      "Name: question_length_bucket, dtype: int64\n"
     ]
    },
    {
     "data": {
      "text/html": [
       "<div>\n",
       "<style scoped>\n",
       "    .dataframe tbody tr th:only-of-type {\n",
       "        vertical-align: middle;\n",
       "    }\n",
       "\n",
       "    .dataframe tbody tr th {\n",
       "        vertical-align: top;\n",
       "    }\n",
       "\n",
       "    .dataframe thead th {\n",
       "        text-align: right;\n",
       "    }\n",
       "</style>\n",
       "<table border=\"1\" class=\"dataframe\">\n",
       "  <thead>\n",
       "    <tr style=\"text-align: right;\">\n",
       "      <th></th>\n",
       "      <th>query</th>\n",
       "      <th>schemaId</th>\n",
       "      <th>question</th>\n",
       "      <th>question_length_bucket</th>\n",
       "    </tr>\n",
       "  </thead>\n",
       "  <tbody>\n",
       "    <tr>\n",
       "      <th>0</th>\n",
       "      <td>query { ship_aggregate ( where : { disposition...</td>\n",
       "      <td>battle_death</td>\n",
       "      <td>How many ships ended up being 'Captured'?</td>\n",
       "      <td>Short</td>\n",
       "    </tr>\n",
       "    <tr>\n",
       "      <th>1</th>\n",
       "      <td>query { ship ( order_by : { name : desc } ) { ...</td>\n",
       "      <td>battle_death</td>\n",
       "      <td>List the name and tonnage ordered by in descen...</td>\n",
       "      <td>Very Long</td>\n",
       "    </tr>\n",
       "    <tr>\n",
       "      <th>2</th>\n",
       "      <td>query { battle { name date } }</td>\n",
       "      <td>battle_death</td>\n",
       "      <td>List the name, date and result of each battle.</td>\n",
       "      <td>Short</td>\n",
       "    </tr>\n",
       "    <tr>\n",
       "      <th>3</th>\n",
       "      <td>query { death_aggregate { aggregate { max { ki...</td>\n",
       "      <td>battle_death</td>\n",
       "      <td>What is maximum and minimum death toll caused ...</td>\n",
       "      <td>Medium</td>\n",
       "    </tr>\n",
       "    <tr>\n",
       "      <th>4</th>\n",
       "      <td>query { death_aggregate { aggregate { avg { in...</td>\n",
       "      <td>battle_death</td>\n",
       "      <td>What is the average number of injuries caused ...</td>\n",
       "      <td>Medium</td>\n",
       "    </tr>\n",
       "  </tbody>\n",
       "</table>\n",
       "</div>"
      ],
      "text/plain": [
       "                                               query      schemaId  \\\n",
       "0  query { ship_aggregate ( where : { disposition...  battle_death   \n",
       "1  query { ship ( order_by : { name : desc } ) { ...  battle_death   \n",
       "2                     query { battle { name date } }  battle_death   \n",
       "3  query { death_aggregate { aggregate { max { ki...  battle_death   \n",
       "4  query { death_aggregate { aggregate { avg { in...  battle_death   \n",
       "\n",
       "                                            question question_length_bucket  \n",
       "0          How many ships ended up being 'Captured'?                  Short  \n",
       "1  List the name and tonnage ordered by in descen...              Very Long  \n",
       "2     List the name, date and result of each battle.                  Short  \n",
       "3  What is maximum and minimum death toll caused ...                 Medium  \n",
       "4  What is the average number of injuries caused ...                 Medium  "
      ]
     },
     "execution_count": 33,
     "metadata": {},
     "output_type": "execute_result"
    }
   ],
   "source": [
    "# create a pandas Series of the question column\n",
    "questions = dev['question']\n",
    "\n",
    "# calculate the average length of the questions\n",
    "avg_length = questions.str.len().mean()\n",
    "min_length = questions.str.len().min()\n",
    "max_length = questions.str.len().max()\n",
    "median_length = questions.str.len().median()\n",
    "\n",
    "# print out the average length of the questions\n",
    "print(\"Average length of questions: \", avg_length)\n",
    "\n",
    "# calculate and print out the minimum and maximum question lengths\n",
    "print(\"Minimum question length: \", min_length)\n",
    "print(\"Maximum question length: \", max_length)\n",
    "\n",
    "# calculate and print out the median question length\n",
    "print(\"Median question length: \", median_length)\n",
    "\n",
    "# plot a histogram of the question lengths\n",
    "plt.hist(questions.str.len(), bins=20)\n",
    "plt.xlabel('Question length')\n",
    "plt.ylabel('Count')\n",
    "plt.title('Distribution of question lengths')\n",
    "plt.show()\n",
    "\n",
    "# calculate the quartiles of question length\n",
    "quartiles = questions.str.len().quantile([0, 0.25, 0.5, 0.75, 1])\n",
    "\n",
    "# create a new column in the dataframe to represent the question length bucket\n",
    "dev['question_length_bucket'] = pd.cut(questions.str.len(), bins=quartiles, labels=['Short', 'Medium', 'Long', 'Very Long'])\n",
    "\n",
    "# print out the count of questions in each bucket\n",
    "print(dev['question_length_bucket'].value_counts())\n",
    "\n",
    "# create a new column in the dataframe to represent the question length bucket\n",
    "dev['question_length_bucket'] = pd.cut(questions.str.len(), bins=quartiles, labels=['Short', 'Medium', 'Long', 'Very Long'])\n",
    "\n",
    "# print out the quartiles and count of questions in each bucket\n",
    "print(\"Quartiles of question length:\\n\", quartiles)\n",
    "print(\"\\nCount of questions in each bucket:\\n\", dev['question_length_bucket'].value_counts())\n",
    "\n",
    "dev.head()\n"
   ]
  },
  {
   "attachments": {},
   "cell_type": "markdown",
   "metadata": {},
   "source": [
    "## Dataset"
   ]
  },
  {
   "cell_type": "code",
   "execution_count": 34,
   "metadata": {},
   "outputs": [
    {
     "name": "stdout",
     "output_type": "stream",
     "text": [
      "{'kind': 'document', 'definitions': [{'kind': 'operation_definition', 'name': None, 'directives': [], 'variable_definitions': [], 'selection_set': {'kind': 'selection_set', 'selections': [{'kind': 'field', 'directives': [], 'alias': None, 'name': {'kind': 'name', 'value': 'wrestler'}, 'arguments': [], 'selection_set': {'kind': 'selection_set', 'selections': [{'kind': 'field', 'directives': [], 'alias': None, 'name': {'kind': 'name', 'value': 'hat'}, 'arguments': [], 'selection_set': None}, {'kind': 'field', 'directives': [], 'alias': None, 'name': {'kind': 'name', 'value': 'outfit'}, 'arguments': [], 'selection_set': None}]}}]}, 'operation': 'query'}]}\n",
      "------------------------------------\n",
      "{'kind': 'document', 'definitions': [{'kind': 'operation_definition', 'name': None, 'directives': [], 'variable_definitions': [], 'selection_set': {'kind': 'selection_set', 'selections': [{'kind': 'field', 'directives': [], 'alias': None, 'name': {'kind': 'name', 'value': 'wrestler'}, 'arguments': [], 'selection_set': {'kind': 'selection_set', 'selections': [{'kind': 'field', 'directives': [], 'alias': None, 'name': {'kind': 'name', 'value': 'outfit'}, 'arguments': [], 'selection_set': None}, {'kind': 'field', 'directives': [], 'alias': None, 'name': {'kind': 'name', 'value': 'hat'}, 'arguments': [], 'selection_set': None}]}}]}, 'operation': 'query'}]}\n"
     ]
    }
   ],
   "source": [
    "## Questions\n",
    "\n",
    "from graphql import parse\n",
    "\n",
    "query1 = \"query { wrestler { hat outfit } }\"\n",
    "query2 = \"query { wrestler { outfit hat } }\"\n",
    "\n",
    "def generate_ast(query: str):\n",
    "    ast = parse(query)\n",
    "    return ast\n",
    "\n",
    "ast1 = generate_ast(query1)\n",
    "ast2 = generate_ast(query2)\n",
    "\n",
    "#Convert AST to dictionary to a tree\n",
    "\n",
    "print(ast1.to_dict())\n",
    "print(\"------------------------------------\")\n",
    "print(ast2.to_dict())\n"
   ]
  },
  {
   "cell_type": "code",
   "execution_count": 35,
   "metadata": {},
   "outputs": [
    {
     "data": {
      "text/plain": [
       "False"
      ]
     },
     "execution_count": 35,
     "metadata": {},
     "output_type": "execute_result"
    }
   ],
   "source": [
    "#Create a function that takes the dataset and check if there's duplicate queries\n",
    "def check_duplicate_queries(df):\n",
    "    queries = df['query'].tolist()\n",
    "    return len(queries) == len(set(queries))\n",
    "\n",
    "check_duplicate_queries(dev)"
   ]
  },
  {
   "cell_type": "code",
   "execution_count": 36,
   "metadata": {},
   "outputs": [
    {
     "name": "stdout",
     "output_type": "stream",
     "text": [
      "Mean nesting level: 3.148014440433213\n",
      "Median nesting level: 3.0\n",
      "Minimum nesting level: 2\n",
      "Maximum nesting level: 6\n"
     ]
    },
    {
     "data": {
      "image/png": "[encoded data removed]",
      "text/plain": [
       "<Figure size 432x288 with 1 Axes>"
      ]
     },
     "metadata": {
      "needs_background": "light"
     },
     "output_type": "display_data"
    },
    {
     "name": "stdout",
     "output_type": "stream",
     "text": [
      "Nesting level 2 123\n",
      "Nesting level 3 244\n",
      "Nesting level 4 171\n",
      "Nesting level 5 14\n",
      "Nesting level 6 2\n"
     ]
    },
    {
     "data": {
      "text/html": [
       "<div>\n",
       "<style scoped>\n",
       "    .dataframe tbody tr th:only-of-type {\n",
       "        vertical-align: middle;\n",
       "    }\n",
       "\n",
       "    .dataframe tbody tr th {\n",
       "        vertical-align: top;\n",
       "    }\n",
       "\n",
       "    .dataframe thead th {\n",
       "        text-align: right;\n",
       "    }\n",
       "</style>\n",
       "<table border=\"1\" class=\"dataframe\">\n",
       "  <thead>\n",
       "    <tr style=\"text-align: right;\">\n",
       "      <th></th>\n",
       "      <th>query</th>\n",
       "      <th>schemaId</th>\n",
       "      <th>question</th>\n",
       "      <th>question_length_bucket</th>\n",
       "      <th>nesting_level</th>\n",
       "    </tr>\n",
       "  </thead>\n",
       "  <tbody>\n",
       "    <tr>\n",
       "      <th>0</th>\n",
       "      <td>query { ship_aggregate ( where : { disposition...</td>\n",
       "      <td>battle_death</td>\n",
       "      <td>How many ships ended up being 'Captured'?</td>\n",
       "      <td>Short</td>\n",
       "      <td>3</td>\n",
       "    </tr>\n",
       "    <tr>\n",
       "      <th>1</th>\n",
       "      <td>query { ship ( order_by : { name : desc } ) { ...</td>\n",
       "      <td>battle_death</td>\n",
       "      <td>List the name and tonnage ordered by in descen...</td>\n",
       "      <td>Very Long</td>\n",
       "      <td>2</td>\n",
       "    </tr>\n",
       "    <tr>\n",
       "      <th>2</th>\n",
       "      <td>query { battle { name date } }</td>\n",
       "      <td>battle_death</td>\n",
       "      <td>List the name, date and result of each battle.</td>\n",
       "      <td>Short</td>\n",
       "      <td>2</td>\n",
       "    </tr>\n",
       "    <tr>\n",
       "      <th>3</th>\n",
       "      <td>query { death_aggregate { aggregate { max { ki...</td>\n",
       "      <td>battle_death</td>\n",
       "      <td>What is maximum and minimum death toll caused ...</td>\n",
       "      <td>Medium</td>\n",
       "      <td>4</td>\n",
       "    </tr>\n",
       "    <tr>\n",
       "      <th>4</th>\n",
       "      <td>query { death_aggregate { aggregate { avg { in...</td>\n",
       "      <td>battle_death</td>\n",
       "      <td>What is the average number of injuries caused ...</td>\n",
       "      <td>Medium</td>\n",
       "      <td>4</td>\n",
       "    </tr>\n",
       "  </tbody>\n",
       "</table>\n",
       "</div>"
      ],
      "text/plain": [
       "                                               query      schemaId  \\\n",
       "0  query { ship_aggregate ( where : { disposition...  battle_death   \n",
       "1  query { ship ( order_by : { name : desc } ) { ...  battle_death   \n",
       "2                     query { battle { name date } }  battle_death   \n",
       "3  query { death_aggregate { aggregate { max { ki...  battle_death   \n",
       "4  query { death_aggregate { aggregate { avg { in...  battle_death   \n",
       "\n",
       "                                            question question_length_bucket  \\\n",
       "0          How many ships ended up being 'Captured'?                  Short   \n",
       "1  List the name and tonnage ordered by in descen...              Very Long   \n",
       "2     List the name, date and result of each battle.                  Short   \n",
       "3  What is maximum and minimum death toll caused ...                 Medium   \n",
       "4  What is the average number of injuries caused ...                 Medium   \n",
       "\n",
       "   nesting_level  \n",
       "0              3  \n",
       "1              2  \n",
       "2              2  \n",
       "3              4  \n",
       "4              4  "
      ]
     },
     "execution_count": 36,
     "metadata": {},
     "output_type": "execute_result"
    }
   ],
   "source": [
    "import re\n",
    "\n",
    "# Function to calculate the nesting level of a query\n",
    "def nesting_level(query):\n",
    "    query = re.sub(r'\\s+', '', query)  # Remove whitespace\n",
    "    max_nesting = 0\n",
    "    current_nesting = 0\n",
    "\n",
    "    for char in query:\n",
    "        if char == '{':\n",
    "            current_nesting += 1\n",
    "            max_nesting = max(max_nesting, current_nesting)\n",
    "        elif char == '}':\n",
    "            current_nesting -= 1\n",
    "\n",
    "    return max_nesting\n",
    "\n",
    "# Calculate the nesting level for each query and add it as a new column\n",
    "dev['nesting_level'] = dev['query'].apply(nesting_level)\n",
    "# create a new column in the dataframe to represent the nesting level bucket\n",
    "\n",
    "# calculate the mean, median, min, and max of nesting levels\n",
    "mean_nesting = dev['nesting_level'].mean()\n",
    "median_nesting = dev['nesting_level'].median()\n",
    "min_nesting = dev['nesting_level'].min()\n",
    "max_nesting = dev['nesting_level'].max()\n",
    "\n",
    "print(f\"Mean nesting level: {mean_nesting}\")\n",
    "print(f\"Median nesting level: {median_nesting}\")\n",
    "print(f\"Minimum nesting level: {min_nesting}\")\n",
    "print(f\"Maximum nesting level: {max_nesting}\")\n",
    "\n",
    "# plot a histogram of the nesting levels\n",
    "plt.hist(dev['nesting_level'], edgecolor='black')\n",
    "plt.xlabel('Nesting Level')\n",
    "plt.ylabel('Frequency')\n",
    "plt.title('Histogram of Nesting Levels')\n",
    "plt.show()\n",
    "\n",
    "dev[dev['nesting_level'] == 2].shape[0]\n",
    "print(\"Nesting level 2 \" + str(dev[dev['nesting_level'] == 2].shape[0]))\n",
    "print(\"Nesting level 3 \" + str(dev[dev['nesting_level'] == 3].shape[0]))\n",
    "print(\"Nesting level 4 \" + str(dev[dev['nesting_level'] == 4].shape[0]))\n",
    "print(\"Nesting level 5 \" + str(dev[dev['nesting_level'] == 5].shape[0]))\n",
    "print(\"Nesting level 6 \" + str(dev[dev['nesting_level'] == 6].shape[0]))\n",
    "\n",
    "dev.head()\n"
   ]
  },
  {
   "cell_type": "code",
   "execution_count": 37,
   "metadata": {},
   "outputs": [
    {
     "name": "stdout",
     "output_type": "stream",
     "text": [
      "0\n",
      "7\n",
      "2.3285198555956677\n",
      "3.0\n"
     ]
    },
    {
     "data": {
      "text/html": [
       "<div>\n",
       "<style scoped>\n",
       "    .dataframe tbody tr th:only-of-type {\n",
       "        vertical-align: middle;\n",
       "    }\n",
       "\n",
       "    .dataframe tbody tr th {\n",
       "        vertical-align: top;\n",
       "    }\n",
       "\n",
       "    .dataframe thead th {\n",
       "        text-align: right;\n",
       "    }\n",
       "</style>\n",
       "<table border=\"1\" class=\"dataframe\">\n",
       "  <thead>\n",
       "    <tr style=\"text-align: right;\">\n",
       "      <th></th>\n",
       "      <th>query</th>\n",
       "      <th>schemaId</th>\n",
       "      <th>question</th>\n",
       "      <th>question_length_bucket</th>\n",
       "      <th>nesting_level</th>\n",
       "      <th>num_args</th>\n",
       "    </tr>\n",
       "  </thead>\n",
       "  <tbody>\n",
       "    <tr>\n",
       "      <th>0</th>\n",
       "      <td>query { ship_aggregate ( where : { disposition...</td>\n",
       "      <td>battle_death</td>\n",
       "      <td>How many ships ended up being 'Captured'?</td>\n",
       "      <td>Short</td>\n",
       "      <td>3</td>\n",
       "      <td>3</td>\n",
       "    </tr>\n",
       "    <tr>\n",
       "      <th>1</th>\n",
       "      <td>query { ship ( order_by : { name : desc } ) { ...</td>\n",
       "      <td>battle_death</td>\n",
       "      <td>List the name and tonnage ordered by in descen...</td>\n",
       "      <td>Very Long</td>\n",
       "      <td>2</td>\n",
       "      <td>2</td>\n",
       "    </tr>\n",
       "    <tr>\n",
       "      <th>2</th>\n",
       "      <td>query { battle { name date } }</td>\n",
       "      <td>battle_death</td>\n",
       "      <td>List the name, date and result of each battle.</td>\n",
       "      <td>Short</td>\n",
       "      <td>2</td>\n",
       "      <td>0</td>\n",
       "    </tr>\n",
       "    <tr>\n",
       "      <th>3</th>\n",
       "      <td>query { death_aggregate { aggregate { max { ki...</td>\n",
       "      <td>battle_death</td>\n",
       "      <td>What is maximum and minimum death toll caused ...</td>\n",
       "      <td>Medium</td>\n",
       "      <td>4</td>\n",
       "      <td>0</td>\n",
       "    </tr>\n",
       "    <tr>\n",
       "      <th>4</th>\n",
       "      <td>query { death_aggregate { aggregate { avg { in...</td>\n",
       "      <td>battle_death</td>\n",
       "      <td>What is the average number of injuries caused ...</td>\n",
       "      <td>Medium</td>\n",
       "      <td>4</td>\n",
       "      <td>0</td>\n",
       "    </tr>\n",
       "  </tbody>\n",
       "</table>\n",
       "</div>"
      ],
      "text/plain": [
       "                                               query      schemaId  \\\n",
       "0  query { ship_aggregate ( where : { disposition...  battle_death   \n",
       "1  query { ship ( order_by : { name : desc } ) { ...  battle_death   \n",
       "2                     query { battle { name date } }  battle_death   \n",
       "3  query { death_aggregate { aggregate { max { ki...  battle_death   \n",
       "4  query { death_aggregate { aggregate { avg { in...  battle_death   \n",
       "\n",
       "                                            question question_length_bucket  \\\n",
       "0          How many ships ended up being 'Captured'?                  Short   \n",
       "1  List the name and tonnage ordered by in descen...              Very Long   \n",
       "2     List the name, date and result of each battle.                  Short   \n",
       "3  What is maximum and minimum death toll caused ...                 Medium   \n",
       "4  What is the average number of injuries caused ...                 Medium   \n",
       "\n",
       "   nesting_level  num_args  \n",
       "0              3         3  \n",
       "1              2         2  \n",
       "2              2         0  \n",
       "3              4         0  \n",
       "4              4         0  "
      ]
     },
     "execution_count": 37,
     "metadata": {},
     "output_type": "execute_result"
    },
    {
     "data": {
      "image/png": "[encoded data removed]",
      "text/plain": [
       "<Figure size 432x288 with 1 Axes>"
      ]
     },
     "metadata": {
      "needs_background": "light"
     },
     "output_type": "display_data"
    }
   ],
   "source": [
    "import re\n",
    "import pandas as pd\n",
    "\n",
    "# Define the regular expression to match argument names in a GraphQL query\n",
    "arg_regex = r'\\b(\\w+)\\s*:[^{]+'\n",
    "\n",
    "# Define a function to count the number of arguments in a query\n",
    "def count_query_arguments(query):\n",
    "    match_iter = re.finditer(arg_regex, query)\n",
    "    arg_names = set(match.group(1) for match in match_iter)\n",
    "    num_args = len(arg_names)\n",
    "    return num_args\n",
    "\n",
    "# dev = pd.read_json('dataset/dev.json')\n",
    "dev['num_args'] = dev['query'].apply(count_query_arguments)\n",
    "\n",
    "dev['num_args'].hist()\n",
    "\n",
    "print(dev['num_args'].min())\n",
    "print(dev['num_args'].max())\n",
    "\n",
    "print(dev['num_args'].mean())\n",
    "print(dev['num_args'].median())\n",
    "\n",
    "\n",
    "dev.head()\n"
   ]
  },
  {
   "attachments": {},
   "cell_type": "markdown",
   "metadata": {},
   "source": [
    "### Schemas\n",
    "\n",
    "I wish to know how many schemas we have. \n",
    "\n",
    "I want to create a dataframe of all of my schemas. In the first column I want to know the id of the schema\n",
    "In the second row I want to know the length of the schema\n",
    "\n",
    "Create a dataframe with the columns schemaId, schema length and schema complexity. \n",
    "schema complexity and schema lenght should be blank for now. \n",
    "\n",
    "I have a folder called Schemas wherein there is larger number of schemas. \n",
    "To populate schemaId I want you to loop over all the folders in the Schemas folder, and use the folder names as the schemaId in the dataframe\n",
    "\n",
    "For every schema folder in the Schemas folder there's a file called schemas.json. I want you to count how long this file is and populate the scehma length wtih this length"
   ]
  },
  {
   "cell_type": "code",
   "execution_count": 38,
   "metadata": {},
   "outputs": [
    {
     "name": "stdout",
     "output_type": "stream",
     "text": [
      "                        schemaId  schema length  schema complexity\n",
      "0                       academic        38065.0                NaN\n",
      "1                     activity_1        13960.0                NaN\n",
      "2                       aircraft        15346.0                NaN\n",
      "3                      allergy_1         7936.0                NaN\n",
      "4              apartment_rentals        18335.0                NaN\n",
      "..                           ...            ...                ...\n",
      "161                     soccer_1        31878.0                NaN\n",
      "162                      store_1        33410.0                NaN\n",
      "163           student_assessment        24659.0                NaN\n",
      "164  tracking_share_transactions        17574.0                NaN\n",
      "165        university_basketball         7621.0                NaN\n",
      "\n",
      "[166 rows x 3 columns]\n"
     ]
    }
   ],
   "source": [
    "import os\n",
    "import pandas as pd\n",
    "\n",
    "# Create an empty DataFrame with the specified columns\n",
    "data = {'schemaId': [], 'schema length': [], 'schema complexity': []}\n",
    "df = pd.DataFrame(data)\n",
    "\n",
    "# Loop over all folders within the \"Schemas\" folder\n",
    "schemas_folder = 'SPEGQL-dataset/Schemas'\n",
    "schema_folders = sorted(os.listdir(schemas_folder), key=lambda x: os.path.getmtime(os.path.join(schemas_folder, x)))\n",
    "\n",
    "for schema_folder in schema_folders:\n",
    "    if os.path.isdir(os.path.join(schemas_folder, schema_folder)):\n",
    "        # Read the schema.json file and count the number of lines\n",
    "        with open(os.path.join(schemas_folder, schema_folder, 'schema.json'), 'r') as schema_file:\n",
    "            schema_length = sum(1 for line in schema_file)\n",
    "\n",
    "        # Append the schemaId and schema length to the DataFrame\n",
    "        new_row = pd.DataFrame({'schemaId': [schema_folder], 'schema length': [schema_length]})\n",
    "        df = pd.concat([df, new_row], ignore_index=True)\n",
    "\n",
    "print(df)\n"
   ]
  },
  {
   "cell_type": "code",
   "execution_count": 39,
   "metadata": {},
   "outputs": [
    {
     "name": "stdout",
     "output_type": "stream",
     "text": [
      "Schema with maximum length: baseball_1 (116912.0 lines)\n",
      "Schema with minimum length: student_1 (5744.0 lines)\n"
     ]
    }
   ],
   "source": [
    "# Find the schema with the maximum length\n",
    "max_length = df['schema length'].max()\n",
    "max_length_schema = df[df['schema length'] == max_length]['schemaId'].values[0]\n",
    "\n",
    "print(f\"Schema with maximum length: {max_length_schema} ({max_length} lines)\")\n",
    "\n",
    "# Find the schema with the minimum length\n",
    "min_length = df['schema length'].min()\n",
    "min_length_schema = df[df['schema length'] == min_length]['schemaId'].values[0]\n",
    "\n",
    "print(f\"Schema with minimum length: {min_length_schema} ({min_length} lines)\")\n"
   ]
  },
  {
   "cell_type": "code",
   "execution_count": 40,
   "metadata": {},
   "outputs": [
    {
     "name": "stdout",
     "output_type": "stream",
     "text": [
      "Complexity score: 3470\n"
     ]
    }
   ],
   "source": [
    "def analyze_schema_complexity(schema_json):\n",
    "    types_count = 0\n",
    "    fields_count = 0\n",
    "    input_objects_count = 0\n",
    "    relationships_count = 0\n",
    "    arguments_count = 0\n",
    "\n",
    "    for type_ in schema_json[\"__schema\"][\"types\"]:\n",
    "        types_count += 1\n",
    "\n",
    "        if type_[\"kind\"] == \"INPUT_OBJECT\":\n",
    "            input_objects_count += 1\n",
    "\n",
    "        if \"fields\" in type_ and type_[\"fields\"] is not None:\n",
    "            for field in type_[\"fields\"]:\n",
    "                fields_count += 1\n",
    "\n",
    "                if \"args\" in field:\n",
    "                    arguments_count += len(field[\"args\"])\n",
    "                    relationships_count += 1\n",
    "\n",
    "    complexity_score = (\n",
    "        (types_count * 1)\n",
    "        + (fields_count * 2)\n",
    "        + (input_objects_count * 3)\n",
    "        + (relationships_count * 4)\n",
    "        + (arguments_count * 5)\n",
    "    )\n",
    "\n",
    "    return complexity_score\n",
    "\n",
    "\n",
    "# Load your GraphQL schema JSON file\n",
    "import json\n",
    "\n",
    "with open(\"SPEGQL-dataset/Schemas/activity_1/schema.json\", \"r\") as file:\n",
    "    schema_json = json.load(file)\n",
    "\n",
    "complexity_score = analyze_schema_complexity(schema_json)\n",
    "print(\"Complexity score:\", complexity_score)\n"
   ]
  },
  {
   "cell_type": "code",
   "execution_count": 41,
   "metadata": {},
   "outputs": [
    {
     "name": "stdout",
     "output_type": "stream",
     "text": [
      "Complexity score: 64\n"
     ]
    }
   ],
   "source": [
    "## Test \n",
    "\n",
    "# Sample GraphQL schema in JSON format\n",
    "sample_schema = {\n",
    "    \"__schema\": {\n",
    "        \"types\": [\n",
    "            {\n",
    "                \"kind\": \"OBJECT\",\n",
    "                \"name\": \"query_root\",\n",
    "                \"fields\": [\n",
    "                    {\n",
    "                        \"name\": \"author\",\n",
    "                        \"args\": [\n",
    "                            {\"name\": \"limit\"},\n",
    "                            {\"name\": \"offset\"},\n",
    "                            {\"name\": \"order_by\"},\n",
    "                            {\"name\": \"where\"},\n",
    "                        ],\n",
    "                    },\n",
    "                    {\n",
    "                        \"name\": \"author_aggregate\",\n",
    "                        \"args\": [\n",
    "                            {\"name\": \"distinct_on\"},\n",
    "                            {\"name\": \"limit\"},\n",
    "                            {\"name\": \"offset\"},\n",
    "                            {\"name\": \"order_by\"},\n",
    "                        ],\n",
    "                    },\n",
    "                ],\n",
    "            },\n",
    "            {\n",
    "                \"kind\": \"OBJECT\",\n",
    "                \"name\": \"author\",\n",
    "                \"fields\": [\n",
    "                    {\"name\": \"id\"},\n",
    "                    {\"name\": \"name\"},\n",
    "                    {\"name\": \"birthdate\"},\n",
    "                ],\n",
    "            },\n",
    "            {\n",
    "                \"kind\": \"INPUT_OBJECT\",\n",
    "                \"name\": \"author_bool_exp\",\n",
    "            },\n",
    "        ],\n",
    "    },\n",
    "}\n",
    "\n",
    "# Run the analyze_schema_complexity function with the sample schema\n",
    "complexity_score = analyze_schema_complexity(sample_schema)\n",
    "print(\"Complexity score:\", complexity_score)"
   ]
  },
  {
   "cell_type": "code",
   "execution_count": 42,
   "metadata": {},
   "outputs": [],
   "source": [
    "## Call the function on all schemas and add the complexity score to the DataFrame\n",
    "for schema_folder in schema_folders:\n",
    "    if os.path.isdir(os.path.join(schemas_folder, schema_folder)):\n",
    "        with open(os.path.join(schemas_folder, schema_folder, 'schema.json'), 'r') as schema_file:\n",
    "            schema_json = json.load(schema_file)\n",
    "            complexity_score = analyze_schema_complexity(schema_json)\n",
    "            df.loc[df['schemaId'] == schema_folder, 'schema complexity'] = complexity_score\n",
    "\n"
   ]
  },
  {
   "cell_type": "code",
   "execution_count": 43,
   "metadata": {},
   "outputs": [
    {
     "name": "stdout",
     "output_type": "stream",
     "text": [
      "Schema with maximum complexity: baseball_1 (27875.0)\n",
      "Schema with minimum complexity: student_1 (1327.0)\n"
     ]
    },
    {
     "data": {
      "text/plain": [
       "<AxesSubplot:xlabel='schema length', ylabel='schema complexity'>"
      ]
     },
     "execution_count": 43,
     "metadata": {},
     "output_type": "execute_result"
    },
    {
     "data": {
      "image/png": "[encoded data removed]",
      "text/plain": [
       "<Figure size 432x288 with 1 Axes>"
      ]
     },
     "metadata": {
      "needs_background": "light"
     },
     "output_type": "display_data"
    }
   ],
   "source": [
    "#It's kinda obvious that schema complexity is correlated with schema length, since a way to increase the complexity is to add more types, fields, relationships, etc. to the schema.\n",
    "\n",
    "## Print the max complexity score\n",
    "max_complexity = df['schema complexity'].max()\n",
    "max_complexity_schema = df[df['schema complexity'] == max_complexity]['schemaId'].values[0]\n",
    "print(f\"Schema with maximum complexity: {max_complexity_schema} ({max_complexity})\")\n",
    "\n",
    "## What is the min complexity score?\n",
    "min_complexity = df['schema complexity'].min()\n",
    "min_complexity_schema = df[df['schema complexity'] == min_complexity]['schemaId'].values[0]\n",
    "print(f\"Schema with minimum complexity: {min_complexity_schema} ({min_complexity})\")\n",
    "\n",
    "## describe the complexity score\n",
    "df['schema complexity'].describe()\n",
    "\n",
    "## Remove outliers\n",
    "df = df[df['schema complexity'] < 15000]\n",
    "\n",
    "#What is the correlation between the schema complexity and the schema length?\n",
    "df.plot.scatter(x='schema length', y='schema complexity')"
   ]
  },
  {
   "cell_type": "code",
   "execution_count": 44,
   "metadata": {},
   "outputs": [
    {
     "data": {
      "text/plain": [
       "0.9991515607108706"
      ]
     },
     "execution_count": 44,
     "metadata": {},
     "output_type": "execute_result"
    }
   ],
   "source": [
    "## What is the correlation value between the schema complexity and the schema length?\n",
    "df['schema length'].corr(df['schema complexity'])\n",
    "\n",
    "\n"
   ]
  },
  {
   "cell_type": "code",
   "execution_count": 45,
   "metadata": {},
   "outputs": [
    {
     "name": "stdout",
     "output_type": "stream",
     "text": [
      "                                               query      schemaId  \\\n",
      "0  query { ship_aggregate ( where : { disposition...  battle_death   \n",
      "1  query { ship ( order_by : { name : desc } ) { ...  battle_death   \n",
      "2                     query { battle { name date } }  battle_death   \n",
      "3  query { death_aggregate { aggregate { max { ki...  battle_death   \n",
      "4  query { death_aggregate { aggregate { avg { in...  battle_death   \n",
      "\n",
      "                                            question question_length_bucket  \\\n",
      "0          How many ships ended up being 'Captured'?                  Short   \n",
      "1  List the name and tonnage ordered by in descen...              Very Long   \n",
      "2     List the name, date and result of each battle.                  Short   \n",
      "3  What is maximum and minimum death toll caused ...                 Medium   \n",
      "4  What is the average number of injuries caused ...                 Medium   \n",
      "\n",
      "   nesting_level  num_args  schema length  schema complexity  \n",
      "0              3         3         9770.0             2339.0  \n",
      "1              2         2         9770.0             2339.0  \n",
      "2              2         0         9770.0             2339.0  \n",
      "3              4         0         9770.0             2339.0  \n",
      "4              4         0         9770.0             2339.0  \n"
     ]
    }
   ],
   "source": [
    "#Combine dev and df on schemaId\n",
    "\n",
    "dev_df = dev.merge(df, on='schemaId')\n",
    "\n",
    "print(dev_df.head())\n",
    "\n",
    "## Export the DataFrame to a CSV file\n",
    "dev_df.to_csv('dev_df.csv', index=False)"
   ]
  }
 ],
 "metadata": {
  "kernelspec": {
   "display_name": "base",
   "language": "python",
   "name": "python3"
  },
  "language_info": {
   "codemirror_mode": {
    "name": "ipython",
    "version": 3
   },
   "file_extension": ".py",
   "mimetype": "text/x-python",
   "name": "python",
   "nbconvert_exporter": "python",
   "pygments_lexer": "ipython3",
   "version": "3.9.12"
  },
  "orig_nbformat": 4,
  "vscode": {
   "interpreter": {
    "hash": "7048a5d75593413cc54dc24206831079ac8905ffddb319c4eafd454be0ec5d5b"
   }
  }
 },
 "nbformat": 4,
 "nbformat_minor": 2
}
